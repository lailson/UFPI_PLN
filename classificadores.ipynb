{
 "cells": [
  {
   "cell_type": "code",
   "execution_count": 68,
   "metadata": {},
   "outputs": [
    {
     "name": "stderr",
     "output_type": "stream",
     "text": [
      "[nltk_data] Downloading package names to /Users/lailson/nltk_data...\n",
      "[nltk_data]   Package names is already up-to-date!\n"
     ]
    },
    {
     "data": {
      "text/plain": [
       "True"
      ]
     },
     "execution_count": 68,
     "metadata": {},
     "output_type": "execute_result"
    }
   ],
   "source": [
    "import nltk\n",
    "from nltk.corpus import names\n",
    "import random\n",
    "from nltk.classify import NaiveBayesClassifier\n",
    "from nltk.classify.util import accuracy\n",
    "from sklearn.metrics import precision_score, recall_score, f1_score\n",
    "from sklearn.model_selection import KFold\n",
    "import numpy as np\n",
    "\n",
    "\n",
    "nltk.download(\"names\")\n",
    "\n"
   ]
  },
  {
   "cell_type": "code",
   "execution_count": 6,
   "metadata": {},
   "outputs": [
    {
     "name": "stdout",
     "output_type": "stream",
     "text": [
      "Primeiros 10 nomes masculinos: ['Aamir', 'Aaron', 'Abbey', 'Abbie', 'Abbot', 'Abbott', 'Abby', 'Abdel', 'Abdul', 'Abdulkarim']\n",
      "Primeiros 10 nomes femininos: ['Abagael', 'Abagail', 'Abbe', 'Abbey', 'Abbi', 'Abbie', 'Abby', 'Abigael', 'Abigail', 'Abigale']\n"
     ]
    }
   ],
   "source": [
    "#Mostar 10 primeiros nomes maculinos e femininos\n",
    "nomes_masculinos = names.words(\"male.txt\")\n",
    "nomes_femininos = names.words(\"female.txt\")\n",
    "\n",
    "print(\"Primeiros 10 nomes masculinos:\", nomes_masculinos[:10])\n",
    "print(\"Primeiros 10 nomes femininos:\", nomes_femininos[:10])"
   ]
  },
  {
   "cell_type": "code",
   "execution_count": 7,
   "metadata": {},
   "outputs": [
    {
     "name": "stdout",
     "output_type": "stream",
     "text": [
      "Total de nomes masculinos: 2943\n",
      "Total de nomes femininos: 5001\n"
     ]
    }
   ],
   "source": [
    "#Mostrar tamanho do corpus\n",
    "print(\"Total de nomes masculinos:\", len(nomes_masculinos))\n",
    "print(\"Total de nomes femininos:\", len(nomes_femininos))\n"
   ]
  },
  {
   "cell_type": "code",
   "execution_count": 8,
   "metadata": {},
   "outputs": [
    {
     "name": "stdout",
     "output_type": "stream",
     "text": [
      "Primeiros 10 nomes rotulados: [('Uriah', 'masculino'), ('Kalman', 'masculino'), ('Nevin', 'masculino'), ('Hunt', 'masculino'), ('Olympia', 'feminino'), ('Kimberly', 'feminino'), ('Nichole', 'feminino'), ('Jacky', 'feminino'), ('Jacqueline', 'feminino'), ('Gail', 'masculino')]\n"
     ]
    }
   ],
   "source": [
    "# Mostrar nomes aleatórios\n",
    "nomes_rotulados = ([(nome, 'masculino') for nome in nomes_masculinos] +\n",
    "                   [(nome, 'feminino') for nome in nomes_femininos])\n",
    "\n",
    "\n",
    "import random\n",
    "random.shuffle(nomes_rotulados)\n",
    "print(\"Primeiros 10 nomes rotulados:\", nomes_rotulados[:10])\n"
   ]
  },
  {
   "cell_type": "code",
   "execution_count": 9,
   "metadata": {},
   "outputs": [
    {
     "data": {
      "text/plain": [
       "({'ultima_letra': 'h',\n",
       "  'primeira_letra': 'u',\n",
       "  'tamanho_nome': 5,\n",
       "  'duas_ultimas_letras': 'ah',\n",
       "  'segunda_letra': 'r',\n",
       "  'duas_primeiras_letras': 'ur',\n",
       "  'numero_de_vogais': 3,\n",
       "  'numero_de_consoantes': 2,\n",
       "  'quantidade_letras_repetidas': 0,\n",
       "  'termina_com_vogal': False,\n",
       "  'quantidade_letras_unicas': 5},\n",
       " 'masculino')"
      ]
     },
     "execution_count": 9,
     "metadata": {},
     "output_type": "execute_result"
    }
   ],
   "source": [
    "\n",
    "# Função para extrair features\n",
    "def extrair_features(nome):\n",
    "    features = {\n",
    "        'ultima_letra': nome[-1].lower(),\n",
    "        'primeira_letra': nome[0].lower(),\n",
    "        'tamanho_nome': len(nome),\n",
    "        'duas_ultimas_letras': nome[-2:].lower(),\n",
    "        'segunda_letra': nome[1].lower() if len(nome) > 1 else '',                 \n",
    "        'duas_primeiras_letras': nome[:2].lower(),                                 \n",
    "        'numero_de_vogais': sum(1 for c in nome if c.lower() in 'aeiou'),           \n",
    "        'numero_de_consoantes': sum(1 for c in nome if c.lower() not in 'aeiou'),   \n",
    "        'quantidade_letras_repetidas': sum(nome.lower().count(c) > 1 for c in set(nome.lower())),\n",
    "        'termina_com_vogal': nome[-1].lower() in 'aeiou',                          \n",
    "        'quantidade_letras_unicas': len(set(nome.lower())),                        \n",
    "    }\n",
    "    return features\n",
    "\n",
    "\n",
    "conjunto_features = [(extrair_features(nome), genero) for (nome, genero) in nomes_rotulados]\n",
    "conjunto_features[0]\n"
   ]
  },
  {
   "cell_type": "code",
   "execution_count": 10,
   "metadata": {},
   "outputs": [
    {
     "name": "stdout",
     "output_type": "stream",
     "text": [
      "Proporção de Treino/Teste: 50/50%\n",
      "Acurácia: 0.7812, Precisão: 0.8702, Recall: 0.7706, F1: 0.8174\n",
      "\n",
      "Proporção de Treino/Teste: 60/40%\n",
      "Acurácia: 0.7788, Precisão: 0.8695, Recall: 0.7677, F1: 0.8154\n",
      "\n",
      "Proporção de Treino/Teste: 70/30%\n",
      "Acurácia: 0.7697, Precisão: 0.8617, Recall: 0.7584, F1: 0.8068\n",
      "\n",
      "Proporção de Treino/Teste: 75/25%\n",
      "Acurácia: 0.7714, Precisão: 0.8600, Recall: 0.7627, F1: 0.8084\n",
      "\n",
      "Proporção de Treino/Teste: 80/19%\n",
      "Acurácia: 0.7659, Precisão: 0.8506, Recall: 0.7600, F1: 0.8028\n",
      "\n",
      "Proporção de Treino/Teste: 85/15%\n",
      "Acurácia: 0.7743, Precisão: 0.8679, Recall: 0.7615, F1: 0.8112\n",
      "\n",
      "Proporção de Treino/Teste: 90/9%\n",
      "Acurácia: 0.7786, Precisão: 0.8756, Recall: 0.7665, F1: 0.8174\n",
      "\n",
      "Proporção de Treino/Teste: 95/5%\n",
      "Acurácia: 0.7889, Precisão: 0.8816, Recall: 0.7791, F1: 0.8272\n",
      "\n"
     ]
    }
   ],
   "source": [
    "\n",
    "# Proporcões\n",
    "proporcoes = [0.5, 0.6, 0.7, 0.75, 0.8, 0.85, 0.9, 0.95] \n",
    "resultados = []\n",
    "\n",
    "for proporcao in proporcoes:\n",
    "    tamanho_treino = int(proporcao * len(conjunto_features))\n",
    "    conjunto_treino, conjunto_teste = conjunto_features[:tamanho_treino], conjunto_features[tamanho_treino:]\n",
    "    \n",
    "    classificador = NaiveBayesClassifier.train(conjunto_treino)\n",
    "    \n",
    "    y_true = [genero for (features, genero) in conjunto_teste]\n",
    "    y_pred = [classificador.classify(features) for (features, genero) in conjunto_teste]\n",
    "    \n",
    "    acuracia = accuracy(classificador, conjunto_teste)\n",
    "    \n",
    "    precisao = precision_score(y_true, y_pred, pos_label='feminino')\n",
    "    recall = recall_score(y_true, y_pred, pos_label='feminino')\n",
    "    f1 = f1_score(y_true, y_pred, pos_label='feminino')\n",
    "    \n",
    "    resultados.append((proporcao, acuracia, precisao, recall, f1))\n",
    "    \n",
    "    print(f\"Proporção de Treino/Teste: {int(proporcao * 100)}/{int((1 - proporcao) * 100)}%\")\n",
    "    print(f\"Acurácia: {acuracia:.4f}, Precisão: {precisao:.4f}, Recall: {recall:.4f}, F1: {f1:.4f}\\n\")"
   ]
  },
  {
   "cell_type": "markdown",
   "metadata": {},
   "source": [
    "Com a propoção de 95% para treino e 5% para teste tivemos a melhor acurácia de 0.7990.\n",
    "Vamos aplicar a validação cruzada para verificar se a proporção se mantem."
   ]
  },
  {
   "cell_type": "code",
   "execution_count": 11,
   "metadata": {},
   "outputs": [
    {
     "name": "stdout",
     "output_type": "stream",
     "text": [
      "\n",
      "Proporção de Treino/Teste: 50/50%\n",
      "Acurácia Média: 0.7777\n",
      "Precisão Média: 0.8560\n",
      "Recall Médio: 0.7731\n",
      "F1-Score Médio: 0.8122\n",
      "\n",
      "Proporção de Treino/Teste: 60/40%\n",
      "Acurácia Média: 0.7747\n",
      "Precisão Média: 0.8591\n",
      "Recall Médio: 0.7648\n",
      "F1-Score Médio: 0.8091\n",
      "\n",
      "Proporção de Treino/Teste: 70/30%\n",
      "Acurácia Média: 0.7797\n",
      "Precisão Média: 0.8662\n",
      "Recall Médio: 0.7676\n",
      "F1-Score Médio: 0.8139\n",
      "\n",
      "Proporção de Treino/Teste: 75/25%\n",
      "Acurácia Média: 0.7803\n",
      "Precisão Média: 0.8653\n",
      "Recall Médio: 0.7706\n",
      "F1-Score Médio: 0.8150\n",
      "\n",
      "Proporção de Treino/Teste: 80/19%\n",
      "Acurácia Média: 0.7808\n",
      "Precisão Média: 0.8671\n",
      "Recall Médio: 0.7707\n",
      "F1-Score Médio: 0.8158\n",
      "\n",
      "Proporção de Treino/Teste: 85/15%\n",
      "Acurácia Média: 0.7787\n",
      "Precisão Média: 0.8641\n",
      "Recall Médio: 0.7688\n",
      "F1-Score Médio: 0.8135\n",
      "\n",
      "Proporção de Treino/Teste: 90/9%\n",
      "Acurácia Média: 0.7790\n",
      "Precisão Média: 0.8658\n",
      "Recall Médio: 0.7666\n",
      "F1-Score Médio: 0.8130\n",
      "\n",
      "Proporção de Treino/Teste: 95/5%\n",
      "Acurácia Média: 0.7786\n",
      "Precisão Média: 0.8668\n",
      "Recall Médio: 0.7659\n",
      "F1-Score Médio: 0.8129\n"
     ]
    }
   ],
   "source": [
    "# Avaliação para cada proporção usando K-Fold Cross-Validation\n",
    "for proporcao in proporcoes:\n",
    "    print(f\"\\nProporção de Treino/Teste: {int(proporcao * 100)}/{int((1 - proporcao) * 100)}%\")\n",
    "    \n",
    "    tamanho_treino = int(proporcao * len(conjunto_features))\n",
    "    conjunto_treino = conjunto_features[:tamanho_treino]\n",
    "    conjunto_teste = conjunto_features[tamanho_treino:]\n",
    "    kf = KFold(n_splits=10, shuffle=True, random_state=42)  \n",
    "\n",
    "    \n",
    "    acuracias = []\n",
    "    precisoes = []\n",
    "    recalls = []\n",
    "    f1_scores = []\n",
    "\n",
    "    for treino_index, teste_index in kf.split(conjunto_treino):\n",
    "        fold_treino = [conjunto_treino[i] for i in treino_index]\n",
    "        fold_teste = [conjunto_treino[i] for i in teste_index]\n",
    "        classificador = NaiveBayesClassifier.train(fold_treino)\n",
    "\n",
    "        y_true = [genero for (_, genero) in fold_teste]\n",
    "        y_pred = [classificador.classify(features) for (features, _) in fold_teste]\n",
    "\n",
    "        acuracia = accuracy(classificador, fold_teste)\n",
    "        precisao = precision_score(y_true, y_pred, pos_label='feminino')\n",
    "        recall = recall_score(y_true, y_pred, pos_label='feminino')\n",
    "        f1 = f1_score(y_true, y_pred, pos_label='feminino')\n",
    "\n",
    "        acuracias.append(acuracia)\n",
    "        precisoes.append(precisao)\n",
    "        recalls.append(recall)\n",
    "        f1_scores.append(f1)\n",
    "\n",
    "    print(f\"Acurácia Média: {np.mean(acuracias):.4f}\")\n",
    "    print(f\"Precisão Média: {np.mean(precisoes):.4f}\")\n",
    "    print(f\"Recall Médio: {np.mean(recalls):.4f}\")\n",
    "    print(f\"F1-Score Médio: {np.mean(f1_scores):.4f}\")\n"
   ]
  },
  {
   "cell_type": "markdown",
   "metadata": {},
   "source": [
    "A proporção 70/30 apresentou o melhor acurácia média 0.7793 e também oo melhor f1-score de 0.8160\n",
    "\n",
    "Sem validação cruzada: 95/5\n",
    "Com validação cruzada: 70/30"
   ]
  },
  {
   "cell_type": "code",
   "execution_count": 12,
   "metadata": {},
   "outputs": [
    {
     "name": "stdout",
     "output_type": "stream",
     "text": [
      "\n",
      "Features mais informativas:\n",
      "Most Informative Features\n",
      "     duas_ultimas_letras = 'na'           femini : mascul =     89.1 : 1.0\n",
      "     duas_ultimas_letras = 'la'           femini : mascul =     70.1 : 1.0\n",
      "     duas_ultimas_letras = 'ia'           femini : mascul =     50.8 : 1.0\n",
      "            ultima_letra = 'a'            femini : mascul =     34.9 : 1.0\n",
      "     duas_ultimas_letras = 'sa'           femini : mascul =     32.0 : 1.0\n",
      "     duas_ultimas_letras = 'ta'           femini : mascul =     30.7 : 1.0\n",
      "            ultima_letra = 'k'            mascul : femini =     30.7 : 1.0\n",
      "     duas_ultimas_letras = 'io'           mascul : femini =     26.0 : 1.0\n",
      "     duas_ultimas_letras = 'ra'           femini : mascul =     24.0 : 1.0\n",
      "     duas_ultimas_letras = 'us'           mascul : femini =     23.9 : 1.0\n",
      "     duas_ultimas_letras = 'do'           mascul : femini =     23.8 : 1.0\n",
      "     duas_ultimas_letras = 'rd'           mascul : femini =     22.7 : 1.0\n",
      "     duas_ultimas_letras = 'ld'           mascul : femini =     21.6 : 1.0\n",
      "     duas_ultimas_letras = 'rt'           mascul : femini =     21.1 : 1.0\n",
      "            ultima_letra = 'p'            mascul : femini =     19.7 : 1.0\n",
      "   duas_primeiras_letras = 'hu'           mascul : femini =     17.2 : 1.0\n",
      "     duas_ultimas_letras = 'ch'           mascul : femini =     13.6 : 1.0\n",
      "     duas_ultimas_letras = 'ka'           femini : mascul =     13.1 : 1.0\n",
      "   duas_primeiras_letras = 'ya'           mascul : femini =     12.7 : 1.0\n",
      "     duas_ultimas_letras = 'os'           mascul : femini =     12.7 : 1.0\n"
     ]
    }
   ],
   "source": [
    "# Mostrar as features mais informativas\n",
    "print(\"\\nFeatures mais informativas:\")\n",
    "classificador.show_most_informative_features(20)"
   ]
  },
  {
   "cell_type": "code",
   "execution_count": 13,
   "metadata": {},
   "outputs": [
    {
     "name": "stdout",
     "output_type": "stream",
     "text": [
      "O gênero previsto para o nome 'Lailson' é: masculino\n"
     ]
    }
   ],
   "source": [
    "nome_novo = \"Lailson\"\n",
    "features_nome_novo = extrair_features(nome_novo)\n",
    "\n",
    "genero_previsto = classificador.classify(features_nome_novo)\n",
    "print(f\"O gênero previsto para o nome '{nome_novo}' é: {genero_previsto}\")\n"
   ]
  },
  {
   "cell_type": "code",
   "execution_count": 14,
   "metadata": {},
   "outputs": [
    {
     "name": "stdout",
     "output_type": "stream",
     "text": [
      "O gênero previsto para o nome 'Henrique' é: feminino\n"
     ]
    }
   ],
   "source": [
    "nome_novo2 = \"Henrique\"\n",
    "features_nome_novo2 = extrair_features(nome_novo2)\n",
    "\n",
    "genero_previsto = classificador.classify(features_nome_novo2)\n",
    "print(f\"O gênero previsto para o nome '{nome_novo2}' é: {genero_previsto}\")"
   ]
  },
  {
   "cell_type": "code",
   "execution_count": 64,
   "metadata": {},
   "outputs": [
    {
     "name": "stdout",
     "output_type": "stream",
     "text": [
      "Erro: Nome Isabelly classificado como masculino\n",
      "Erro: Nome Elis classificado como masculino\n",
      "Erro: Nome Liz classificado como masculino\n",
      "Erro: Nome Sarah classificado como masculino\n",
      "Erro: Nome Esther classificado como masculino\n",
      "Erro: Nome Eloá classificado como masculino\n",
      "Erro: Nome Beatriz classificado como masculino\n",
      "Erro: Nome Laís classificado como masculino\n",
      "Erro: Nome Isis classificado como masculino\n",
      "Erro: Nome Isabel classificado como masculino\n",
      "Erro: Nome Yasmin classificado como masculino\n",
      "Erro: Nome Ana Liz classificado como masculino\n",
      "Erro: Nome Maitê classificado como masculino\n",
      "\n",
      "Total de nomes femininos brasileiros testados: 100\n",
      "Acertos em nomes femininos brasileiros: 87\n",
      "Erros em nomes femininos brasileiros: 13\n",
      "Acurácia em nomes femininos brasileiros: 0.8700\n"
     ]
    }
   ],
   "source": [
    "# Brail - fEMININO\n",
    "with open(\"dataset/femininoBR.txt\", \"r\") as file:\n",
    "    nomes_femininos_br = {linha.strip() for linha in file}  # Usando conjunto para evitar duplicados\n",
    "\n",
    "acertos_feminino_br = 0\n",
    "erros_feminino_br = 0\n",
    "\n",
    "for nome in nomes_femininos_br:\n",
    "    features_nome = extrair_features(nome)  \n",
    "    genero_previsto = classificador.classify(features_nome)\n",
    "\n",
    "    if genero_previsto == \"feminino\":\n",
    "        acertos_feminino_br += 1\n",
    "    else:\n",
    "        erros_feminino_br += 1\n",
    "        print(f\"Erro: Nome {nome} classificado como {genero_previsto}\")\n",
    "\n",
    "total_nomes_feminino_br = len(nomes_femininos_br)\n",
    "acuracia_feminino_br = acertos_feminino_br / total_nomes_feminino_br\n",
    "\n",
    "print(f\"\\nTotal de nomes femininos brasileiros testados: {total_nomes_feminino_br}\")\n",
    "print(f\"Acertos em nomes femininos brasileiros: {acertos_feminino_br}\")\n",
    "print(f\"Erros em nomes femininos brasileiros: {erros_feminino_br}\")\n",
    "print(f\"Acurácia em nomes femininos brasileiros: {acuracia_feminino_br:.4f}\")\n"
   ]
  },
  {
   "cell_type": "code",
   "execution_count": 63,
   "metadata": {},
   "outputs": [
    {
     "name": "stdout",
     "output_type": "stream",
     "text": [
      "Errou: Nome Henrique classificado como feminino\n",
      "Errou: Nome Levi classificado como feminino\n",
      "Errou: Nome João Miguel classificado como feminino\n",
      "Errou: Nome Davi classificado como feminino\n",
      "Errou: Nome Asafe classificado como feminino\n",
      "Errou: Nome Davi Lucca classificado como feminino\n",
      "Errou: Nome Ravi Lucca classificado como feminino\n",
      "Errou: Nome Emanuel classificado como feminino\n",
      "Errou: Nome Felipe classificado como feminino\n",
      "Errou: Nome Luiz Miguel classificado como feminino\n",
      "Errou: Nome Anthony classificado como feminino\n",
      "Errou: Nome João Guilherme classificado como feminino\n",
      "Errou: Nome Yuri classificado como feminino\n",
      "Errou: Nome Kalel classificado como feminino\n",
      "Errou: Nome Lucca classificado como feminino\n",
      "Errou: Nome Kauê classificado como feminino\n",
      "Errou: Nome Vicente classificado como feminino\n",
      "Errou: Nome Guilherme classificado como feminino\n",
      "Errou: Nome Luiz Henrique classificado como feminino\n",
      "Errou: Nome Estevão classificado como feminino\n",
      "Errou: Nome Pedro Henrique classificado como feminino\n",
      "Errou: Nome Ravi classificado como feminino\n",
      "Errou: Nome Davi Miguel classificado como feminino\n",
      "Errou: Nome Anthony Gabriel classificado como feminino\n",
      "\n",
      "Total de nomes masculinos brasileiros testados: 100\n",
      "Acertos em nomes masculinos brasileiros: 76\n",
      "Erros em nomes masculinos brasileiros: 24\n",
      "Acurácia em nomes masculinos brasileiros: 0.7600\n"
     ]
    }
   ],
   "source": [
    "# Brasil - maculino\n",
    "with open(\"dataset/masculinoBR.txt\", \"r\") as file:\n",
    "    nomes_masculinos_br = {linha.strip() for linha in file}  \n",
    "\n",
    "acertos_masculino_br = 0\n",
    "erros_masculino_br = 0\n",
    "\n",
    "for nome in nomes_masculinos_br:\n",
    "    features_nome = extrair_features(nome)  \n",
    "    genero_previsto = classificador.classify(features_nome) \n",
    "\n",
    "    if genero_previsto == \"masculino\":\n",
    "        acertos_masculino_br += 1\n",
    "    else:\n",
    "        erros_masculino_br += 1\n",
    "        print(f\"Errou: Nome {nome} classificado como {genero_previsto}\")\n",
    "\n",
    "total_nomes_masculino_br = len(nomes_masculinos_br)\n",
    "acuracia_masculino_br = acertos_masculino_br / total_nomes_masculino_br\n",
    "\n",
    "print(f\"\\nTotal de nomes masculinos brasileiros testados: {total_nomes_masculino_br}\")\n",
    "print(f\"Acertos em nomes masculinos brasileiros: {acertos_masculino_br}\")\n",
    "print(f\"Erros em nomes masculinos brasileiros: {erros_masculino_br}\")\n",
    "print(f\"Acurácia em nomes masculinos brasileiros: {acuracia_masculino_br:.4f}\")\n"
   ]
  },
  {
   "cell_type": "code",
   "execution_count": 61,
   "metadata": {},
   "outputs": [
    {
     "name": "stdout",
     "output_type": "stream",
     "text": [
      "Erro: Nome Gertrud classificado como masculino, esperado: feminino\n",
      "Erro: Nome Ingrid classificado como masculino, esperado: feminino\n",
      "Erro: Nome Luca classificado como feminino, esperado: masculino\n",
      "Erro: Nome Maximilian classificado como feminino, esperado: masculino\n",
      "Erro: Nome Karl classificado como feminino, esperado: masculino\n",
      "Erro: Nome Dagmar classificado como masculino, esperado: feminino\n",
      "Erro: Nome Astrid classificado como masculino, esperado: feminino\n",
      "Erro: Nome Hildegard classificado como masculino, esperado: feminino\n",
      "Erro: Nome Hannah classificado como masculino, esperado: feminino\n",
      "\n",
      "Total de nomes testados na Alemanha: 95\n",
      "Acertos na Alemanha: 86\n",
      "Erros na Alemanha: 9\n",
      "Acurácia na Alemanha: 0.9053\n"
     ]
    }
   ],
   "source": [
    "# Alemanha\n",
    "with open(\"dataset/femininoDE.txt\", \"r\") as file:\n",
    "    nomes_femininos_de = {(linha.strip(), \"feminino\") for linha in file}  \n",
    "\n",
    "with open(\"dataset/masculinoDE.txt\", \"r\") as file:\n",
    "    nomes_masculinos_de = {(linha.strip(), \"masculino\") for linha in file}  \n",
    "\n",
    "dataset_alemanha = list(nomes_femininos_de | nomes_masculinos_de)  \n",
    "\n",
    "acertos_alemanha = 0\n",
    "erros_alemanha = 0\n",
    "\n",
    "for nome, genero_real in dataset_alemanha:\n",
    "    features_nome = extrair_features(nome)  \n",
    "    genero_previsto = classificador.classify(features_nome) \n",
    "\n",
    "    if genero_previsto == genero_real:\n",
    "        acertos_alemanha += 1\n",
    "    else:\n",
    "        erros_alemanha += 1\n",
    "        print(f\"Erro: Nome {nome} classificado como {genero_previsto}, esperado: {genero_real}\")\n",
    "\n",
    "total_nomes_alemanha = len(dataset_alemanha)\n",
    "acuracia_alemanha = acertos_alemanha / total_nomes_alemanha\n",
    "\n",
    "print(f\"\\nTotal de nomes testados na Alemanha: {total_nomes_alemanha}\")\n",
    "print(f\"Acertos na Alemanha: {acertos_alemanha}\")\n",
    "print(f\"Erros na Alemanha: {erros_alemanha}\")\n",
    "print(f\"Acurácia na Alemanha: {acuracia_alemanha:.4f}\")\n"
   ]
  },
  {
   "cell_type": "code",
   "execution_count": 62,
   "metadata": {},
   "outputs": [
    {
     "name": "stdout",
     "output_type": "stream",
     "text": [
      "Erro: Nome Shota classificado como feminino, esperado: masculino\n",
      "Erro: Nome Yuki classificado como feminino, esperado: masculino\n",
      "Erro: Nome Kenji classificado como feminino, esperado: masculino\n",
      "Erro: Nome Hiroshi classificado como feminino, esperado: masculino\n",
      "Erro: Nome Tatsuya classificado como feminino, esperado: masculino\n",
      "Erro: Nome Akiko classificado como masculino, esperado: feminino\n",
      "Erro: Nome Yui classificado como masculino, esperado: feminino\n",
      "Erro: Nome Satoshi classificado como feminino, esperado: masculino\n",
      "Erro: Nome Chihiro classificado como masculino, esperado: feminino\n",
      "Erro: Nome Sora classificado como feminino, esperado: masculino\n",
      "Erro: Nome Haruki classificado como feminino, esperado: masculino\n",
      "Erro: Nome Eiji classificado como feminino, esperado: masculino\n",
      "Erro: Nome Daichi classificado como feminino, esperado: masculino\n",
      "Erro: Nome Mao classificado como masculino, esperado: feminino\n",
      "Erro: Nome Yuko classificado como masculino, esperado: feminino\n",
      "Erro: Nome Ryota classificado como feminino, esperado: masculino\n",
      "Erro: Nome Naoki classificado como feminino, esperado: masculino\n",
      "Erro: Nome Akira classificado como feminino, esperado: masculino\n",
      "Erro: Nome Kohei classificado como feminino, esperado: masculino\n",
      "\n",
      "Total de nomes testados no Japão: 73\n",
      "Acertos no Japão: 54\n",
      "Erros no Japão: 19\n",
      "Acurácia no Japão: 0.7397\n"
     ]
    }
   ],
   "source": [
    "# JapÃo\n",
    "with open(\"dataset/femininoJP.txt\", \"r\") as file:\n",
    "    nomes_femininos_jp = {(linha.strip(), \"feminino\") for linha in file}  \n",
    "\n",
    "with open(\"dataset/masculinoJP.txt\", \"r\") as file:\n",
    "    nomes_masculinos_jp = {(linha.strip(), \"masculino\") for linha in file}\n",
    "\n",
    "dataset_japao = list(nomes_femininos_jp | nomes_masculinos_jp)  \n",
    "\n",
    "acertos_japao = 0\n",
    "erros_japao = 0\n",
    "\n",
    "for nome, genero_real in dataset_japao:\n",
    "    features_nome = extrair_features(nome)  \n",
    "    genero_previsto = classificador.classify(features_nome) \n",
    "\n",
    "    if genero_previsto == genero_real:\n",
    "        acertos_japao += 1\n",
    "    else:\n",
    "        erros_japao += 1\n",
    "        print(f\"Erro: Nome {nome} classificado como {genero_previsto}, esperado: {genero_real}\")\n",
    "\n",
    "total_nomes_japao = len(dataset_japao)\n",
    "acuracia_japao = acertos_japao / total_nomes_japao\n",
    "\n",
    "print(f\"\\nTotal de nomes testados no Japão: {total_nomes_japao}\")\n",
    "print(f\"Acertos no Japão: {acertos_japao}\")\n",
    "print(f\"Erros no Japão: {erros_japao}\")\n",
    "print(f\"Acurácia no Japão: {acuracia_japao:.4f}\")\n"
   ]
  },
  {
   "cell_type": "code",
   "execution_count": 65,
   "metadata": {},
   "outputs": [
    {
     "name": "stdout",
     "output_type": "stream",
     "text": [
      "Erro: Nome Inés classificado como masculino, esperado: feminino\n",
      "Erro: Nome Beatriz classificado como masculino, esperado: feminino\n",
      "Erro: Nome Esther classificado como masculino, esperado: feminino\n",
      "Erro: Nome Jaime classificado como feminino, esperado: masculino\n",
      "Erro: Nome Abril classificado como masculino, esperado: feminino\n",
      "Erro: Nome Isabel classificado como masculino, esperado: feminino\n",
      "Erro: Nome Ciro classificado como feminino, esperado: masculino\n",
      "Erro: Nome Pilar classificado como masculino, esperado: feminino\n",
      "Erro: Nome Jorge classificado como feminino, esperado: masculino\n",
      "Erro: Nome Rocío classificado como masculino, esperado: feminino\n",
      "Erro: Nome Carmen classificado como masculino, esperado: feminino\n",
      "\n",
      "Total de nomes testados em Espanha: 83\n",
      "Acertos em Espanha: 72\n",
      "Erros em Espanha: 11\n",
      "Acurácia em Espanha: 0.8675\n"
     ]
    }
   ],
   "source": [
    "# Espanha\n",
    "with open(\"dataset/femininoES.txt\", \"r\") as file:\n",
    "    nomes_femininos_es = {(linha.strip(), \"feminino\") for linha in file}  \n",
    "\n",
    "with open(\"dataset/masculinoES.txt\", \"r\") as file:\n",
    "    nomes_masculinos_es = {(linha.strip(), \"masculino\") for linha in file}  \n",
    "\n",
    "dataset_es = list(nomes_femininos_es | nomes_masculinos_es)\n",
    "\n",
    "acertos_espanha = 0\n",
    "erros_espanha = 0\n",
    "\n",
    "for nome, genero_real in dataset_es:\n",
    "    features_nome = extrair_features(nome)  \n",
    "    genero_previsto = classificador.classify(features_nome) \n",
    "\n",
    "    if genero_previsto == genero_real:\n",
    "        acertos_espanha += 1\n",
    "    else:\n",
    "        erros_espanha += 1\n",
    "        print(f\"Erro: Nome {nome} classificado como {genero_previsto}, esperado: {genero_real}\")\n",
    "\n",
    "total_nomes_espanha = len(dataset_es)\n",
    "acuracia_espanha = acertos_espanha / total_nomes_espanha\n",
    "\n",
    "print(f\"\\nTotal de nomes testados em Espanha: {total_nomes_espanha}\")\n",
    "print(f\"Acertos em Espanha: {acertos_espanha}\")\n",
    "print(f\"Erros em Espanha: {erros_espanha}\")\n",
    "print(f\"Acurácia em Espanha: {acuracia_espanha:.4f}\")\n"
   ]
  },
  {
   "cell_type": "code",
   "execution_count": 28,
   "metadata": {},
   "outputs": [
    {
     "name": "stdout",
     "output_type": "stream",
     "text": [
      "Errou: Nome Isabel classificado como masculino, esperado: feminino\n",
      "Errou: Nome Leonor classificado como masculino, esperado: feminino\n",
      "Errou: Nome Beatriz classificado como masculino, esperado: feminino\n",
      "Errou: Nome Inês classificado como masculino, esperado: feminino\n",
      "Errou: Nome Beatriz classificado como masculino, esperado: feminino\n",
      "Errou: Nome Inês classificado como masculino, esperado: feminino\n",
      "Errou: Nome Sol classificado como masculino, esperado: feminino\n",
      "Errou: Nome Iris classificado como masculino, esperado: feminino\n",
      "Errou: Nome Salomé classificado como masculino, esperado: feminino\n",
      "Errou: Nome Duarte classificado como feminino, esperado: masculino\n",
      "Errou: Nome Henrique classificado como feminino, esperado: masculino\n",
      "Errou: Nome Vicente classificado como feminino, esperado: masculino\n",
      "Errou: Nome Davi classificado como feminino, esperado: masculino\n",
      "Errou: Nome Emanuel classificado como feminino, esperado: masculino\n",
      "Errou: Nome Guilherme classificado como feminino, esperado: masculino\n",
      "Errou: Nome Elói classificado como feminino, esperado: masculino\n",
      "Errou: Nome Lourenço classificado como feminino, esperado: masculino\n",
      "Errou: Nome Rui classificado como feminino, esperado: masculino\n",
      "Errou: Nome Afonso Henrique classificado como feminino, esperado: masculino\n",
      "\n",
      "Total de nomes testados em Portugal: 102\n",
      "Acertos em Portugal: 83\n",
      "Erros em Portugal: 19\n",
      "Acurácia em Portugal: 0.8137\n"
     ]
    }
   ],
   "source": [
    "# Portugal\n",
    "with open(\"dataset/femininoPT.txt\", \"r\") as file:\n",
    "    nomes_femininos_pt = [(linha.strip(), \"feminino\") for linha in file]\n",
    "\n",
    "with open(\"dataset/masculinoPT.txt\", \"r\") as file:\n",
    "    nomes_masculinos_pt = [(linha.strip(), \"masculino\") for linha in file]\n",
    "\n",
    "dataset_pt = nomes_femininos_pt + nomes_masculinos_pt\n",
    "\n",
    "acertos_portugal = 0\n",
    "erros_portugal = 0\n",
    "\n",
    "for nome, genero_real in dataset_pt:\n",
    "    features_nome = extrair_features(nome)  \n",
    "    genero_previsto = classificador.classify(features_nome) \n",
    "\n",
    "    if genero_previsto == genero_real:\n",
    "        acertos_portugal += 1\n",
    "    else:\n",
    "        erros_portugal += 1\n",
    "        print(f\"Errou: Nome {nome} classificado como {genero_previsto}, esperado: {genero_real}\")\n",
    "\n",
    "total_nomes_portugal = len(dataset_pt)\n",
    "acuracia_portugal = acertos_portugal / total_nomes_portugal\n",
    "\n",
    "print(f\"\\nTotal de nomes testados em Portugal: {total_nomes_portugal}\")\n",
    "print(f\"Acertos em Portugal: {acertos_portugal}\")\n",
    "print(f\"Erros em Portugal: {erros_portugal}\")\n",
    "print(f\"Acurácia em Portugal: {acuracia_portugal:.4f}\")\n"
   ]
  },
  {
   "cell_type": "code",
   "execution_count": 67,
   "metadata": {},
   "outputs": [
    {
     "name": "stdout",
     "output_type": "stream",
     "text": [
      "País                Total de Nomes Testados  Acertos   Erros     Acurácia\n",
      "---------------------------------------------------------------------------\n",
      "Portugal            102                      83        19        0.8137\n",
      "Espanha             83                       72        11        0.8675\n",
      "Japão               73                       54        19        0.7397\n",
      "Alemanha            95                       86        9         0.9053\n",
      "Brasil              200                      163       37        0.8150\n"
     ]
    }
   ],
   "source": [
    "\n",
    "print(f\"{'País':<20}{'Total de Nomes Testados':<25}{'Acertos':<10}{'Erros':<10}{'Acurácia'}\")\n",
    "print(\"-\" * 75)\n",
    "print(f\"{'Portugal':<20}{total_nomes_portugal:<25}{acertos_portugal:<10}{erros_portugal:<10}{acuracia_portugal:.4f}\")\n",
    "print(f\"{'Espanha':<20}{total_nomes_espanha:<25}{acertos_espanha:<10}{erros_espanha:<10}{acuracia_espanha:.4f}\")\n",
    "print(f\"{'Japão':<20}{total_nomes_japao:<25}{acertos_japao:<10}{erros_japao:<10}{acuracia_japao:.4f}\")\n",
    "print(f\"{'Alemanha':<20}{total_nomes_alemanha:<25}{acertos_alemanha:<10}{erros_alemanha:<10}{acuracia_alemanha:.4f}\")\n",
    "print(f\"{'Brasil ':<20}{total_nomes_feminino_br+total_nomes_masculino_br:<25}{acertos_feminino_br+acertos_masculino_br:<10}{erros_feminino_br+erros_masculino_br:<10}{(acuracia_masculino_br+acuracia_feminino_br)/2:.4f}\")"
   ]
  },
  {
   "cell_type": "markdown",
   "metadata": {},
   "source": [
    "De acordo com a tabela podemos perceber que o país que mais acertamos o genero foi Alemanha, seguido da Espanha depois Brasil, Portugal e por fim Japão. \n"
   ]
  },
  {
   "cell_type": "markdown",
   "metadata": {},
   "source": []
  }
 ],
 "metadata": {
  "kernelspec": {
   "display_name": "Python 3",
   "language": "python",
   "name": "python3"
  },
  "language_info": {
   "codemirror_mode": {
    "name": "ipython",
    "version": 3
   },
   "file_extension": ".py",
   "mimetype": "text/x-python",
   "name": "python",
   "nbconvert_exporter": "python",
   "pygments_lexer": "ipython3",
   "version": "3.12.5"
  }
 },
 "nbformat": 4,
 "nbformat_minor": 2
}
