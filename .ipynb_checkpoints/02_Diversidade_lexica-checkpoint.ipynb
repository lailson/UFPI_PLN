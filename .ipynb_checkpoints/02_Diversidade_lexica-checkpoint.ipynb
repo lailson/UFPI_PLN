{
 "cells": [
  {
   "cell_type": "markdown",
   "id": "1055fbe3-6c68-48d0-9145-e07e49feea71",
   "metadata": {},
   "source": [
    "# Diversidade Lexica"
   ]
  },
  {
   "cell_type": "code",
   "execution_count": 7,
   "id": "b0e1a91c-b9ff-4414-8aed-ce27605a9d51",
   "metadata": {},
   "outputs": [],
   "source": [
    "import nltk"
   ]
  },
  {
   "cell_type": "code",
   "execution_count": 8,
   "id": "6c00db55-1c7a-44d0-b043-7e5fff71de78",
   "metadata": {},
   "outputs": [
    {
     "name": "stderr",
     "output_type": "stream",
     "text": [
      "[nltk_data] Downloading package brown to /Users/lailson/nltk_data...\n",
      "[nltk_data]   Package brown is already up-to-date!\n"
     ]
    },
    {
     "data": {
      "text/plain": [
       "True"
      ]
     },
     "execution_count": 8,
     "metadata": {},
     "output_type": "execute_result"
    }
   ],
   "source": [
    "nltk.download('brown')"
   ]
  },
  {
   "cell_type": "code",
   "execution_count": 9,
   "id": "61725bd6-5e56-4411-b240-cb57a965681c",
   "metadata": {},
   "outputs": [],
   "source": [
    "import numpy as np\n",
    "import pandas as pd\n",
    "from nltk.corpus import brown"
   ]
  },
  {
   "cell_type": "code",
   "execution_count": 11,
   "id": "2b686e9d-ccfb-4112-bcda-eb72c6540547",
   "metadata": {},
   "outputs": [],
   "source": [
    "# Carregando o NLTK e o corpus Brown (por exemplo)\n",
    "corpus = brown.words()"
   ]
  },
  {
   "cell_type": "code",
   "execution_count": null,
   "id": "d531fbf2-a65c-4f76-9564-2ebf4cd2e159",
   "metadata": {},
   "outputs": [],
   "source": [
    "corpus"
   ]
  },
  {
   "cell_type": "code",
   "execution_count": 17,
   "id": "c02becd7-e0ca-4f41-9d20-dfc3ec3d8a8f",
   "metadata": {},
   "outputs": [],
   "source": [
    "def frequencia_absoluta(corpus):\n",
    "    palavras_unicas = set(corpus)\n",
    "    contagens_palavra = [corpus.count(p) for p in palavras_unicas]\n",
    "    return contagens_palavra\n",
    "\n",
    "def frequencia_relativa(corpus):\n",
    "    total_palavras = len(corpus)\n",
    "    palavras_unicas = set(corpus)\n",
    "    contagens_palavra = [corpus.count(p) / total_palavras for p in palavras_unicas]\n",
    "    return contagens_palavra\n",
    "\n",
    "def inversa_documentos(corpus):\n",
    "    total_documents = len(corpus)\n",
    "    palavras_unicas = set(corpus)\n",
    "    inversa_frequencia = [len(corpus)/c if c != 0 else float('inf') for c in [corpus.count(p) for p in palavras_unicas]]\n",
    "    return inversa_frequencia\n",
    "\n",
    "def tf_idf(contagens_palavra, inversa_documentos):\n",
    "    total_documents = len(inversa_documentos)\n",
    "    tf_idf_values = []\n",
    "\n",
    "    for i in range(len(contagens_palavra)):\n",
    "        tf_idf_value = contagens_palavra[i] * inversa_documentos[i]\n",
    "        tf_idf_values.append(tf_idf_value)\n",
    "\n",
    "    return tf_idf_values\n",
    "\n",
    "def tf_idf_normalizado(corpus):\n",
    "    palavras_unicas = set(corpus)\n",
    "    contagens_palavra = [corpus.count(p) for p in palavras_unicas]\n",
    "\n",
    "    total_palavras = sum(contagens_palavra)\n",
    "    term_frequencia = {palavra: freq / total_palavras for palavra, freq in zip(palavras_unicas, contagens_palavra)}\n",
    "\n",
    "    inversa_documentos = [len(corpus)/freq if freq != 0 else float('inf') for freq in contagens_palavra]\n",
    "\n",
    "    tf_idf_normalizado = {}\n",
    "\n",
    "    for i in range(len(contagens_palavra)):\n",
    "        tf_idf_value = term_frequencia[palavras_unicas[i]] * inversa_documentos[i]\n",
    "        tf_idf_normalizado[palavras_unicas[i]] = tf_idf_value\n",
    "\n",
    "    return tf_idf_normalizado"
   ]
  },
  {
   "cell_type": "code",
   "execution_count": null,
   "id": "40f24549-e4f7-4916-b8bb-a7e2fdc10949",
   "metadata": {},
   "outputs": [],
   "source": [
    "# Obtem as palavras únicas do texto\n",
    "palavras_unicas = set(corpus)\n",
    "\n",
    "contagens_palavra = frequencia_absoluta(corpus)\n",
    "print(\"Frequência absoluta:\", contagens_palavra)\n",
    "\n",
    "contagens_palavra_relativa = frequencia_relativa(corpus)\n",
    "print(\"Frequência relativa\", contagens_palavra_relativa)\n",
    "\n",
    "inversa_frequencia_documentos = inversa_documentos(corpus)\n",
    "print(\"Inversa dos documentos:\", inversa_frequencia_documentos)\n",
    "\n",
    "tf_idf_values = tf_idf(contagens_palavra, inversa_frequencia_documentos)\n",
    "print(\"TF-IDF\", tf_idf_values)\n",
    "\n",
    "tf_idf_normalizado_corpo = tf_idf_normalizado(corpus)\n",
    "print(\"TF-IDF Normalizada:\")\n",
    "for termo, valor in tf_idf_normalizado_corpo.items():\n",
    "    print(termo,\": \", valor)"
   ]
  },
  {
   "cell_type": "code",
   "execution_count": null,
   "id": "ce07c346-7396-4d34-a91b-aab0c811f727",
   "metadata": {},
   "outputs": [],
   "source": [
    "palavras_unicas"
   ]
  },
  {
   "cell_type": "code",
   "execution_count": null,
   "id": "d8a952ab-28d1-432a-b37b-9d08c00b45ae",
   "metadata": {},
   "outputs": [],
   "source": []
  }
 ],
 "metadata": {
  "kernelspec": {
   "display_name": "Python 3 (ipykernel)",
   "language": "python",
   "name": "python3"
  },
  "language_info": {
   "codemirror_mode": {
    "name": "ipython",
    "version": 3
   },
   "file_extension": ".py",
   "mimetype": "text/x-python",
   "name": "python",
   "nbconvert_exporter": "python",
   "pygments_lexer": "ipython3",
   "version": "3.12.5"
  }
 },
 "nbformat": 4,
 "nbformat_minor": 5
}
