{
 "cells": [
  {
   "cell_type": "markdown",
   "metadata": {},
   "source": [
    "# Bert (Bidirectional Encoder Representations from Transformers)\n",
    "\n",
    "- Algoritmo do Google lançado no final de 2018\n",
    "- Resultados mais revolucionários na área de PLN \n",
    "- Melhor compreensão das palavras e frases dentro do **contexto**\n",
    "- Implementado no sistema de busca do google\n",
    "\n",
    "[BERT](https://arxiv.org/abs/1810.04805)\n",
    "\n",
    "BERT (Representação de codificador bidirecional de transformadores)\n",
    "- Encoder Representations: Sistema de modelagem de linguagem com pré-treinamento com dados não rotulados. Fine-tuning para outras aplicações\n",
    "- From Transformer: Baseado em uma das arquiteturas mais poderosas do Processamento de Lilguagem Natural. O TTransformer define a arquitetura do BERT.\n",
    "- Bidirectional: Utiliza o contexto da esquerda e direita para entendimento das palavras.  O processo de treinamento é baseado nessas palavras, como por exemplo: 'I like my dog'"
   ]
  },
  {
   "cell_type": "code",
   "execution_count": 1,
   "metadata": {},
   "outputs": [],
   "source": []
  },
  {
   "cell_type": "code",
   "execution_count": null,
   "metadata": {},
   "outputs": [],
   "source": []
  }
 ],
 "metadata": {
  "kernelspec": {
   "display_name": "Python 3",
   "language": "python",
   "name": "python3"
  },
  "language_info": {
   "codemirror_mode": {
    "name": "ipython",
    "version": 3
   },
   "file_extension": ".py",
   "mimetype": "text/x-python",
   "name": "python",
   "nbconvert_exporter": "python",
   "pygments_lexer": "ipython3",
   "version": "3.12.5"
  }
 },
 "nbformat": 4,
 "nbformat_minor": 2
}
